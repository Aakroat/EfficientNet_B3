{
 "cells": [
  {
   "cell_type": "markdown",
   "metadata": {
    "colab_type": "text",
    "id": "oSX7bjREzxLr"
   },
   "source": [
    "# Installing dependencies"
   ]
  },
  {
   "cell_type": "code",
   "execution_count": 1,
   "metadata": {
    "colab": {
     "base_uri": "https://localhost:8080/",
     "height": 1000
    },
    "colab_type": "code",
    "id": "cbSHaJczzryd",
    "outputId": "1bbcdbb0-e4e3-44d5-cf84-b27f9d91fa9b"
   },
   "outputs": [
    {
     "name": "stderr",
     "output_type": "stream",
     "text": [
      "Using TensorFlow backend.\n",
      "/opt/infilect/dev/envs/env_eff/lib/python3.6/site-packages/tensorflow/python/framework/dtypes.py:516: FutureWarning: Passing (type, 1) or '1type' as a synonym of type is deprecated; in a future version of numpy, it will be understood as (type, (1,)) / '(1,)type'.\n",
      "  _np_qint8 = np.dtype([(\"qint8\", np.int8, 1)])\n",
      "/opt/infilect/dev/envs/env_eff/lib/python3.6/site-packages/tensorflow/python/framework/dtypes.py:517: FutureWarning: Passing (type, 1) or '1type' as a synonym of type is deprecated; in a future version of numpy, it will be understood as (type, (1,)) / '(1,)type'.\n",
      "  _np_quint8 = np.dtype([(\"quint8\", np.uint8, 1)])\n",
      "/opt/infilect/dev/envs/env_eff/lib/python3.6/site-packages/tensorflow/python/framework/dtypes.py:518: FutureWarning: Passing (type, 1) or '1type' as a synonym of type is deprecated; in a future version of numpy, it will be understood as (type, (1,)) / '(1,)type'.\n",
      "  _np_qint16 = np.dtype([(\"qint16\", np.int16, 1)])\n",
      "/opt/infilect/dev/envs/env_eff/lib/python3.6/site-packages/tensorflow/python/framework/dtypes.py:519: FutureWarning: Passing (type, 1) or '1type' as a synonym of type is deprecated; in a future version of numpy, it will be understood as (type, (1,)) / '(1,)type'.\n",
      "  _np_quint16 = np.dtype([(\"quint16\", np.uint16, 1)])\n",
      "/opt/infilect/dev/envs/env_eff/lib/python3.6/site-packages/tensorflow/python/framework/dtypes.py:520: FutureWarning: Passing (type, 1) or '1type' as a synonym of type is deprecated; in a future version of numpy, it will be understood as (type, (1,)) / '(1,)type'.\n",
      "  _np_qint32 = np.dtype([(\"qint32\", np.int32, 1)])\n",
      "/opt/infilect/dev/envs/env_eff/lib/python3.6/site-packages/tensorflow/python/framework/dtypes.py:525: FutureWarning: Passing (type, 1) or '1type' as a synonym of type is deprecated; in a future version of numpy, it will be understood as (type, (1,)) / '(1,)type'.\n",
      "  np_resource = np.dtype([(\"resource\", np.ubyte, 1)])\n",
      "/opt/infilect/dev/envs/env_eff/lib/python3.6/site-packages/tensorboard/compat/tensorflow_stub/dtypes.py:541: FutureWarning: Passing (type, 1) or '1type' as a synonym of type is deprecated; in a future version of numpy, it will be understood as (type, (1,)) / '(1,)type'.\n",
      "  _np_qint8 = np.dtype([(\"qint8\", np.int8, 1)])\n",
      "/opt/infilect/dev/envs/env_eff/lib/python3.6/site-packages/tensorboard/compat/tensorflow_stub/dtypes.py:542: FutureWarning: Passing (type, 1) or '1type' as a synonym of type is deprecated; in a future version of numpy, it will be understood as (type, (1,)) / '(1,)type'.\n",
      "  _np_quint8 = np.dtype([(\"quint8\", np.uint8, 1)])\n",
      "/opt/infilect/dev/envs/env_eff/lib/python3.6/site-packages/tensorboard/compat/tensorflow_stub/dtypes.py:543: FutureWarning: Passing (type, 1) or '1type' as a synonym of type is deprecated; in a future version of numpy, it will be understood as (type, (1,)) / '(1,)type'.\n",
      "  _np_qint16 = np.dtype([(\"qint16\", np.int16, 1)])\n",
      "/opt/infilect/dev/envs/env_eff/lib/python3.6/site-packages/tensorboard/compat/tensorflow_stub/dtypes.py:544: FutureWarning: Passing (type, 1) or '1type' as a synonym of type is deprecated; in a future version of numpy, it will be understood as (type, (1,)) / '(1,)type'.\n",
      "  _np_quint16 = np.dtype([(\"quint16\", np.uint16, 1)])\n",
      "/opt/infilect/dev/envs/env_eff/lib/python3.6/site-packages/tensorboard/compat/tensorflow_stub/dtypes.py:545: FutureWarning: Passing (type, 1) or '1type' as a synonym of type is deprecated; in a future version of numpy, it will be understood as (type, (1,)) / '(1,)type'.\n",
      "  _np_qint32 = np.dtype([(\"qint32\", np.int32, 1)])\n",
      "/opt/infilect/dev/envs/env_eff/lib/python3.6/site-packages/tensorboard/compat/tensorflow_stub/dtypes.py:550: FutureWarning: Passing (type, 1) or '1type' as a synonym of type is deprecated; in a future version of numpy, it will be understood as (type, (1,)) / '(1,)type'.\n",
      "  np_resource = np.dtype([(\"resource\", np.ubyte, 1)])\n"
     ]
    }
   ],
   "source": [
    "import random\n",
    "import gc\n",
    "import cv2\n",
    "import os\n",
    "import matplotlib.pyplot as plt\n",
    "%matplotlib inline\n",
    "from matplotlib import ticker\n",
    "import seaborn as sns\n",
    "import numpy as np\n",
    "from sklearn.model_selection import train_test_split\n",
    "import keras\n",
    "from keras import layers\n",
    "from keras import models\n",
    "from keras.models import Sequential, Model\n",
    "from keras.layers import Dense, Flatten, Activation, Dropout\n",
    "from keras import backend as K\n",
    "from keras.preprocessing.image import ImageDataGenerator\n",
    "from keras import optimizers, applications\n",
    "from keras.callbacks import ModelCheckpoint, LearningRateScheduler, TensorBoard, EarlyStopping\n",
    "from keras import optimizers\n",
    "from keras.preprocessing.image import ImageDataGenerator\n",
    "from keras.preprocessing.image import img_to_array, load_img\n",
    "from keras.utils import to_categorical\n",
    "\n",
    "import efficientnet\n",
    "from efficientnet import EfficientNetB3\n",
    "from skimage.transform import resize"
   ]
  },
  {
   "cell_type": "code",
   "execution_count": null,
   "metadata": {
    "colab": {},
    "colab_type": "code",
    "id": "gnA5kSZp-3HQ"
   },
   "outputs": [],
   "source": [
    "!unzip Image_2.zip\n"
   ]
  },
  {
   "cell_type": "code",
   "execution_count": 2,
   "metadata": {
    "colab": {},
    "colab_type": "code",
    "id": "380p-2I80eSR"
   },
   "outputs": [],
   "source": [
    "#Function to resize the images to required size and generate labels(depending on the name of file) \n",
    "def read_and_process_image(list_of_images):\n",
    "    \"\"\"\n",
    "    Returns two arrays: \n",
    "        X is an array of resized images\n",
    "        y is an array of labels\n",
    "    \"\"\"\n",
    "    X = [] # images\n",
    "    y = [] # labels\n",
    "    \n",
    "    for image in list_of_images:\n",
    "        \n",
    "        fg=cv2.imread(image,cv2.IMREAD_COLOR)\n",
    "        ff=cv2.resize(fg,(300,300),interpolation=cv2.INTER_CUBIC)\n",
    "        X.append(ff)\n",
    "        if 'category 1' in image:\n",
    "            y.append(0)\n",
    "        elif 'category 2' in image:\n",
    "            y.append(1)\n",
    "        elif 'category 3' in image:\n",
    "            y.append(2)\n",
    "        elif 'category 4' in image:\n",
    "            y.append(3)    \n",
    "          \n",
    "    return X, y"
   ]
  },
  {
   "cell_type": "markdown",
   "metadata": {
    "colab_type": "text",
    "id": "k5rqut4lUqgx"
   },
   "source": [
    "#Get data "
   ]
  },
  {
   "cell_type": "code",
   "execution_count": 3,
   "metadata": {
    "colab": {
     "base_uri": "https://localhost:8080/",
     "height": 67
    },
    "colab_type": "code",
    "id": "bWd8jWOFwa0F",
    "outputId": "ee1353f7-20ae-4ba1-c07b-80ffe65f8005"
   },
   "outputs": [
    {
     "name": "stdout",
     "output_type": "stream",
     "text": [
      "Shape of train images is: (440, 300, 300, 3)\n",
      "Shape of labels is: (440,)\n"
     ]
    }
   ],
   "source": [
    "train_dir_1 = 'Image_2/Input/Dataset/train/category 1'\n",
    "train_dir_2 = 'Image_2/Input/Dataset/train/category 2'\n",
    "train_dir_3 = 'Image_2/Input/Dataset/train/category 3'\n",
    "train_dir_4 = 'Image_2/Input/Dataset/train/category 4'\n",
    "test_dir = 'Image_2/Input/Dataset/test'\n",
    "\n",
    "train_cat1 = ['Image_2/Input/Dataset/train/category 1/{}'.format(i) for i in os.listdir(train_dir_1) if 'category 1' in i] \n",
    "train_cat2 = ['Image_2/Input/Dataset/train/category 2/{}'.format(i) for i in os.listdir(train_dir_2) if 'category 2' in i] \n",
    "train_cat3 = ['Image_2/Input/Dataset/train/category 3/{}'.format(i) for i in os.listdir(train_dir_3) if 'category 3' in i] \n",
    "train_cat4 = ['Image_2/Input/Dataset/train/category 4/{}'.format(i) for i in os.listdir(train_dir_4) if 'category 4' in i] \n",
    "test_imgs = ['Image_2/Input/Dataset/test/{}'.format(i) for i in os.listdir(test_dir)]\n",
    "\n",
    "train_imgs = train_cat1 + train_cat2+train_cat3+train_cat4\n",
    "\n",
    "# random.shuffle(train_imgs)\n",
    "random.shuffle(test_imgs)\n",
    "\n",
    "del train_cat1\n",
    "del train_cat2\n",
    "del train_cat3\n",
    "del train_cat4\n",
    "gc.collect()\n",
    "\n",
    "img_size=300\n",
    "batch_size=32\n",
    "nrows = ncolumns=img_size\n",
    "channels = 3  \n",
    "\n",
    "X,y =read_and_process_image(train_imgs)  \n",
    "\n",
    "X_test,y_test =read_and_process_image(test_imgs)\n",
    "x = np.array(X_test)\n",
    "\n",
    "\n",
    "X = np.array(X)\n",
    "y = np.array(y)\n",
    "print(\"Shape of train images is:\", X.shape)\n",
    "print(\"Shape of labels is:\", y.shape)\n",
    "\n",
    "# del train_imgs\n",
    "gc.collect()\n",
    "\n",
    "## Data to feed the model (training required format) \n",
    "X_train, X_val, y_train, y_val = train_test_split(X, y, test_size=0.20, random_state=2)\n",
    "\n",
    "\n",
    "\n",
    "##Converting shape from (1,) to (4,) -as required for softmax\n",
    "y_train = to_categorical(y_train) \n",
    "y_val = to_categorical(y_val)\n",
    "\n",
    "\n",
    "train_datagen=ImageDataGenerator(rescale=1./255,   #Scale the image between 0 and 1\n",
    "                                    rotation_range=40,\n",
    "                                    width_shift_range=0.2,\n",
    "                                    height_shift_range=0.2,\n",
    "                                    shear_range=0.2,\n",
    "                                    zoom_range=0.2,\n",
    "                                    horizontal_flip=True,\n",
    "                                    fill_mode='nearest')\n",
    "\n",
    "val_datagen = ImageDataGenerator(rescale=1./255)\n",
    "\n",
    "test_datagen = ImageDataGenerator(rescale=1./255)\n",
    "\n",
    "train_generator = train_datagen.flow(X_train, y=y_train,batch_size=batch_size,shuffle=True)\n",
    "\n",
    "val_generator = val_datagen.flow(X_val, y=y_val, batch_size=batch_size,shuffle=True)\n",
    "######Ignore ---error: OpenCV(4.1.0) /io/opencv/modules/imgproc/src/resize.cpp:3718: error: (-215:Assertion failed) !ssize.empty() in function 'resize'"
   ]
  },
  {
   "cell_type": "markdown",
   "metadata": {
    "colab_type": "text",
    "id": "QHGW8Vf29u8E"
   },
   "source": [
    "# Visualise dataset"
   ]
  },
  {
   "cell_type": "code",
   "execution_count": 4,
   "metadata": {
    "colab": {
     "base_uri": "https://localhost:8080/",
     "height": 116
    },
    "colab_type": "code",
    "id": "iqkGx8_vs8BE",
    "outputId": "f656aaaa-c3a2-41fb-ef14-7af3f8a5daf1"
   },
   "outputs": [
    {
     "data": {
      "text/plain": [
       "0"
      ]
     },
     "execution_count": 4,
     "metadata": {},
     "output_type": "execute_result"
    },
    {
     "data": {
      "image/png": "[encoded data removed]",
      "text/plain": [
       "<Figure size 1440x720 with 20 Axes>"
      ]
     },
     "metadata": {
      "needs_background": "light"
     },
     "output_type": "display_data"
    }
   ],
   "source": [
    "plt.figure(figsize=(20,10))\n",
    "columns = 20\n",
    "for i in range(columns):\n",
    "    plt.subplot(5 / columns + 1, columns, i + 1)\n",
    "    plt.imshow(X[i])\n",
    "    \n",
    "del X\n",
    "gc.collect()    "
   ]
  },
  {
   "cell_type": "code",
   "execution_count": 5,
   "metadata": {
    "colab": {
     "base_uri": "https://localhost:8080/",
     "height": 298
    },
    "colab_type": "code",
    "id": "uTV3tX95uZCf",
    "outputId": "c6e8d354-cfd9-4408-cb60-5adcb1d4fe29"
   },
   "outputs": [
    {
     "data": {
      "text/plain": [
       "34981"
      ]
     },
     "execution_count": 5,
     "metadata": {},
     "output_type": "execute_result"
    },
    {
     "data": {
      "image/png": "[encoded data removed]",
      "text/plain": [
       "<Figure size 432x288 with 1 Axes>"
      ]
     },
     "metadata": {
      "needs_background": "light"
     },
     "output_type": "display_data"
    }
   ],
   "source": [
    "sns.countplot(y)\n",
    "plt.title('Distribution ')\n",
    "del y\n",
    "gc.collect()    "
   ]
  },
  {
   "cell_type": "markdown",
   "metadata": {
    "colab_type": "text",
    "id": "RLsBbrU9x4q_"
   },
   "source": [
    "# Adding new layers\n"
   ]
  },
  {
   "cell_type": "code",
   "execution_count": null,
   "metadata": {
    "colab": {
     "base_uri": "https://localhost:8080/",
     "height": 306
    },
    "colab_type": "code",
    "id": "RhX1zgjUdKSg",
    "outputId": "8ff7999b-e260-44d9-a44e-f3c833014cf6"
   },
   "outputs": [],
   "source": [
    "## Download Model weights\n",
    "b3_model = EfficientNetB3(weights='imagenet', include_top=False, input_shape=(img_size, img_size, 3))\n",
    "b3_model.trainable = False\n",
    "\n",
    "model = models.Sequential()\n",
    "model.add(b3_model)\n",
    "model.add(layers.Flatten())\n",
    "model.add(layers.Dense(2304, activation='relu'))\n",
    "model.add(layers.Dense(2304, activation='relu'))\n",
    "model.add(layers.Dense(4, activation='softmax'))"
   ]
  },
  {
   "cell_type": "markdown",
   "metadata": {
    "colab_type": "text",
    "id": "mwSwFc81y4uj"
   },
   "source": [
    "# Training"
   ]
  },
  {
   "cell_type": "code",
   "execution_count": null,
   "metadata": {
    "colab": {
     "base_uri": "https://localhost:8080/",
     "height": 1000
    },
    "colab_type": "code",
    "id": "nTQCWNFnxhuV",
    "outputId": "f66d2c09-e9ac-436c-93d1-a7733b401a66"
   },
   "outputs": [],
   "source": [
    "model.compile(loss='categorical_crossentropy', optimizer=optimizers.RMSprop(lr=1e-6), metrics=['acc'])\n",
    "\n",
    "#Saving checkpoints only if val_loss improve and early stopping if val_loss doesn't improve for 50 epochs\n",
    "checkpoint = ModelCheckpoint(\"path to save/model_keras.h5\", monitor='val_loss', verbose=1, save_best_only=True, save_weights_only=False, mode='auto', period=1)\n",
    "early = EarlyStopping(monitor='val_loss', min_delta=0, patience=50, verbose=1, mode='auto')\n",
    "\n",
    "ntrain = len(X_train)\n",
    "nval = len(X_val)\n",
    "print(ntrain,nval)\n",
    "\n",
    "history = model.fit_generator(train_generator,\n",
    "                              steps_per_epoch=ntrain // batch_size,\n",
    "                              epochs=100,\n",
    "                              validation_data=val_generator,\n",
    "                              callbacks = [checkpoint, early],\n",
    "                              validation_steps=nval // batch_size)"
   ]
  },
  {
   "cell_type": "code",
   "execution_count": null,
   "metadata": {
    "colab": {
     "base_uri": "https://localhost:8080/",
     "height": 281
    },
    "colab_type": "code",
    "id": "JewS98y976ce",
    "outputId": "6852e1dc-9403-431c-bb3c-2ace4d7ed776"
   },
   "outputs": [],
   "source": [
    "import matplotlib.pyplot as plt\n",
    "\n",
    "acc = history.history['acc']\n",
    "val_acc = history.history['val_acc']\n",
    "loss = history.history['loss']\n",
    "val_loss = history.history['val_loss']\n",
    "\n",
    "epochs = range(1, len(acc) + 1)\n",
    "\n",
    "\n",
    "def smooth_plot(points, factor=0.7):\n",
    "    smooth_pts = []\n",
    "    for point in points:\n",
    "        if smooth_pts:\n",
    "            previous = smooth_pts[-1]\n",
    "            smooth_pts.append(previous * factor + point * (1 - factor))\n",
    "        else:\n",
    "            smooth_pts.append(point)\n",
    "    return smooth_pts\n",
    "  \n",
    "#Plot figure\n",
    "plt.plot(epochs, smooth_plot(acc), 'b', label='Training accurarcy')\n",
    "plt.plot(epochs, smooth_plot(val_acc), 'r', label='Validation accurarcy')\n",
    "plt.title('Training and Validation accurarcy')\n",
    "plt.legend()\n",
    "plt.show()  "
   ]
  },
  {
   "cell_type": "markdown",
   "metadata": {
    "colab_type": "text",
    "id": "_ccHIvAH-Lm4"
   },
   "source": [
    "# Testing"
   ]
  },
  {
   "cell_type": "code",
   "execution_count": null,
   "metadata": {
    "colab": {
     "base_uri": "https://localhost:8080/",
     "height": 1000
    },
    "colab_type": "code",
    "id": "qmzd7jn08x_5",
    "outputId": "ccf66cd0-1144-4cc4-b96a-e588019882d2"
   },
   "outputs": [],
   "source": [
    "from keras.models import load_model\n",
    "model=load_model(\"path to/model_keras.h5\")\n",
    "\n",
    "\n",
    "i = 0\n",
    "columns = len(x)\n",
    "print(len(x))\n",
    "text_labels = []\n",
    "plt.figure(figsize=(30,20))\n",
    "for batch in test_datagen.flow(x, batch_size=1):\n",
    "    pred = model.predict(batch)\n",
    "    arr=pred[0]\n",
    "    maxE=np.amax(arr)\n",
    "    res = np.where(arr == np.amax(arr))\n",
    "    res=res[0]\n",
    "    if res == 0:\n",
    "        text_labels.append('1')\n",
    "    elif res ==1:\n",
    "        text_labels.append('2')\n",
    "    elif res ==2:\n",
    "        text_labels.append('3')\n",
    "    elif res ==3:\n",
    "        text_labels.append('4')    \n",
    "    plt.subplot(6, 5, i + 1)\n",
    "    plt.title('Category' + text_labels[i])\n",
    "    imgplot = plt.imshow(batch[0])\n",
    "    i += 1\n",
    "    if i % columns == 0:\n",
    "        break\n",
    "plt.show()"
   ]
  },
  {
   "cell_type": "code",
   "execution_count": null,
   "metadata": {},
   "outputs": [],
   "source": []
  }
 ],
 "metadata": {
  "accelerator": "GPU",
  "colab": {
   "collapsed_sections": [
    "RLsBbrU9x4q_",
    "mwSwFc81y4uj"
   ],
   "name": "Assignment1.ipynb",
   "provenance": [],
   "version": "0.3.2"
  },
  "kernelspec": {
   "display_name": "Efficientnet",
   "language": "python",
   "name": "efficientnet"
  },
  "language_info": {
   "codemirror_mode": {
    "name": "ipython",
    "version": 3
   },
   "file_extension": ".py",
   "mimetype": "text/x-python",
   "name": "python",
   "nbconvert_exporter": "python",
   "pygments_lexer": "ipython3",
   "version": "3.6.7"
  }
 },
 "nbformat": 4,
 "nbformat_minor": 1
}
